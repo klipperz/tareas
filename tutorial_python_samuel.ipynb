{
 "cells": [
  {
   "cell_type": "markdown",
   "id": "73d0523d",
   "metadata": {},
   "source": [
    "# tutorial de python basico\n",
    "los titulos se ponen con \"#\" y cuando se esta en celda de codigo los comentarios tambien con ese\n",
    "###### entre mas \"#\" mas pequeño sale el titulo\n",
    "aca un pequeño tutorial de lo que hemos visto en python, desde lo mas basico hasta un poco mas tecnico."
   ]
  },
  {
   "cell_type": "markdown",
   "id": "e217053d",
   "metadata": {},
   "source": [
    "## 1. variables y tipos de datos básicos\n",
    "\n",
    "primero, variables y tipos basicos. en python no hace falta declarar el tipo de una variable ya que el lenguaje lo infiere. una variable es solo un nombre que apunta a un valor en memoria.\n",
    "\n",
    "buenas practicas de nombres:\n",
    "- usar barra baja _ para variables y funciones: ejemplo \"mi_variable\"\n",
    "- usar mayusculas completas para constantes: ejemplo \"PI = 3.142\"\n",
    "- elegir nombres descriptivos, evita letras sueltas como \"l\", \"O\", \"I\"\n",
    "- para funciones, es mejor usar verbos: ejemplo \"calcular_promedio()\"\n",
    "\n",
    "podemos tambien poner viñetas para organizar mejor los textos:\n",
    "1. existe la lista no numerada con anidamiento\n",
    "- perejil   \n",
    "    + cilantro\n",
    "2. tambien la lista numerada\n",
    "    1. fresa\n",
    "    2. naranja \n",
    "3. como tambien se puede poner cursiva y ese tipo de cosas\n",
    "-  *Mensaje en cursiva*\n",
    "-  **Mensaje en negrita**\n",
    "- ***cursiva y negrita***\n",
    "\n"
   ]
  },
  {
   "cell_type": "code",
   "execution_count": null,
   "id": "7cd39e08",
   "metadata": {},
   "outputs": [
    {
     "name": "stdout",
     "output_type": "stream",
     "text": [
      "<class 'int'> 10\n",
      "<class 'float'> 3.14159\n",
      "<class 'str'> hola mundo\n",
      "<class 'bool'> True\n",
      "hola, Samuel\n"
     ]
    }
   ],
   "source": [
    "# ejemplos de variables\n",
    "nombre = 'Samuel'\n",
    "apellido = 'Angel Cardona'\n",
    "edad = 20\n",
    "fecha_nacimiento = '2005-09-14'\n",
    "\n",
    "numero = 10\n",
    "pi = 3.14159\n",
    "texto = 'hola mundo'\n",
    "verdadero = True\n",
    "\n",
    "print(type(numero), numero)\n",
    "print(type(pi), pi)\n",
    "print(type(texto), texto)\n",
    "print(type(verdadero), verdadero)\n",
    "\n",
    "# funcion con anotaciones de tipo\n",
    "def saludar(persona: str) -> str:\n",
    "    return f\"hola, {persona}\"\n",
    "\n",
    "print(saludar(nombre))"
   ]
  },
  {
   "cell_type": "markdown",
   "id": "e6e9f68f",
   "metadata": {},
   "source": [
    "importantisimo, como decia arriba python detecta los tipos de variables, aunque tambien se pueden cambiar a porposito"
   ]
  },
  {
   "cell_type": "markdown",
   "id": "f47f3df4",
   "metadata": {},
   "source": [
    "###### int: numeros enteros, positivos o negativos, sin decimales. ejemplo: -5, 0, 42\n",
    "###### float: numeros con decimales (punto flotante). ejemplo: 3.14, -0.001, 2.0\n",
    "###### bool: valores logicos True o False. internamente son enteros (True=1, False=0).\n",
    "###### str: cadenas de texto delimitadas por comillas simples o dobles. ejemplo: \"hola\", 'python'"
   ]
  },
  {
   "cell_type": "code",
   "execution_count": 10,
   "id": "752dfd46",
   "metadata": {},
   "outputs": [
    {
     "name": "stdout",
     "output_type": "stream",
     "text": [
      "int -> float: 5.0\n",
      "float -> int: 3\n",
      "int -> str: 123 <class 'str'>\n",
      "str -> int: 456\n",
      "int(True) = 1\n",
      "int(False) = 0\n",
      "bool(0) = False\n",
      "bool(3) = True\n",
      "bool('') = False\n",
      "bool('apoteosico') = True\n"
     ]
    }
   ],
   "source": [
    "# int a float\n",
    "a = 5\n",
    "b = float(a)\n",
    "print(\"int -> float:\", b)\n",
    "\n",
    "# float a int (pierde decimales)\n",
    "c = 3.7\n",
    "d = int(c)\n",
    "print(\"float -> int:\", d)\n",
    "\n",
    "# numero a str\n",
    "e = str(123)\n",
    "print(\"int -> str:\", e, type(e))\n",
    "\n",
    "# str a int (debe ser un numero valido)\n",
    "f = int(\"456\")\n",
    "print(\"str -> int:\", f)\n",
    "\n",
    "# bool a int (True=1, False=0)\n",
    "print(\"int(True) =\", int(True))\n",
    "print(\"int(False) =\", int(False))\n",
    "\n",
    "# valores a bool (cero, cadena vacia, lista vacia son False)\n",
    "print(\"bool(0) =\", bool(0))\n",
    "print(\"bool(3) =\", bool(3))\n",
    "print(\"bool('') =\", bool(''))\n",
    "print(\"bool('apoteosico') =\", bool('apoteosico'))\n"
   ]
  },
  {
   "cell_type": "code",
   "execution_count": 17,
   "id": "ebc12376",
   "metadata": {},
   "outputs": [
    {
     "name": "stdout",
     "output_type": "stream",
     "text": [
      "a: True b: False\n",
      "a and b -> False\n",
      "a or b  -> True\n",
      "not a   -> False\n"
     ]
    }
   ],
   "source": [
    "# booleanos simples\n",
    "a = True\n",
    "b = False\n",
    "print(\"a:\", a, \"b:\", b)\n",
    "\n",
    "# operadores logicos\n",
    "print(\"a and b ->\", a and b)\n",
    "print(\"a or b  ->\", a or b)\n",
    "print(\"not a   ->\", not a)"
   ]
  },
  {
   "cell_type": "markdown",
   "id": "2c6381d3",
   "metadata": {},
   "source": [
    "## 2. f strings\n",
    "los f-strings son la forma moderna y recomendada de formatear texto y se escriben con 'f' antes de las comillas y {} para variables"
   ]
  },
  {
   "cell_type": "code",
   "execution_count": 27,
   "id": "a2040601",
   "metadata": {},
   "outputs": [
    {
     "name": "stdout",
     "output_type": "stream",
     "text": [
      "hola Samuel, tienes 20 años y tu promedio semestral es 4.05\n",
      "el año que viene tendras 21 años\n",
      "hola, soy Samuel, y me gusta la naranja especificamente la tangelo\n",
      "TRM: $3,892.45\n"
     ]
    }
   ],
   "source": [
    "nombre = \"Samuel\"\n",
    "edad = 20\n",
    "promedio = 4.05\n",
    "\n",
    "mensaje = f\"hola {nombre}, tienes {edad} años y tu promedio semestral es {promedio:.2f}\"\n",
    "print(mensaje)\n",
    "\n",
    "# tambien puedes hacer calculos dentro\n",
    "print(f\"el año que viene tendras {edad + 1} años\") \n",
    "\n",
    "var1=\"naranja\"\n",
    "var2=\"tangelo\"\n",
    "print(f\"hola, soy {nombre}, y me gusta la {var1} especificamente la {var2}\")\n",
    "\n",
    "# formateo de numeros\n",
    "TRM = 3892.45 # a dia 19 de septiembre\n",
    "print(f\"TRM: ${precio:,.2f}\")  # formato con separador de miles"
   ]
  },
  {
   "cell_type": "markdown",
   "id": "a6332045",
   "metadata": {},
   "source": [
    "## 3. operaciones matemáticas y precedencia"
   ]
  },
  {
   "cell_type": "markdown",
   "id": "9e8fb93d",
   "metadata": {},
   "source": [
    "se pueden hacer funciones sencillas tambien en python, ademas que tambien se puede tener en cuenta la jerarquia"
   ]
  },
  {
   "cell_type": "code",
   "execution_count": 6,
   "id": "1dcf1a55",
   "metadata": {},
   "outputs": [
    {
     "name": "stdout",
     "output_type": "stream",
     "text": [
      "670 406 71016 4.075757575757576\n",
      "division entera // 4\n",
      "resto % 10\n",
      "potencia ** 289444\n",
      "2 + 3 * 4 = 14\n",
      "(2 + 3) * 4 = 20\n",
      "2 ** 3 * 4 = 32\n",
      "not True or False = False\n"
     ]
    }
   ],
   "source": [
    "# operaciones basicas y precedencia\n",
    "x = 538\n",
    "y = 132\n",
    "\n",
    "# suma, resta, mult, division real\n",
    "print(x + y, x - y, x * y, x / y)\n",
    "\n",
    "# division entera, resto, potencia\n",
    "print(\"division entera //\", x // y)\n",
    "print(\"resto %\", x % y)\n",
    "print(\"potencia **\", x ** 2)\n",
    "\n",
    "# ejemplos de jerarquia\n",
    "print(\"2 + 3 * 4 =\", 2 + 3 * 4)       # mult va primero -> 2 + 12\n",
    "print(\"(2 + 3) * 4 =\", (2 + 3) * 4)   # parentesis cambia el orden -> 20\n",
    "print(\"2 ** 3 * 4 =\", 2 ** 3 * 4)     # potencia antes que mult -> (8*4)\n",
    "print(\"not True or False =\", not True or False) # not se evalua antes\n"
   ]
  },
  {
   "cell_type": "markdown",
   "id": "9226032e",
   "metadata": {},
   "source": [
    "## 4. estructuras de datos"
   ]
  },
  {
   "cell_type": "markdown",
   "id": "569df774",
   "metadata": {},
   "source": [
    "ahora estructuras de datos: listas, tuplas, diccionarios y conjuntos. cada una sirve para algo distinto."
   ]
  },
  {
   "cell_type": "markdown",
   "id": "90d1522d",
   "metadata": {},
   "source": [
    "### listas\n",
    "listas son mutables, se definen con []\n"
   ]
  },
  {
   "cell_type": "code",
   "execution_count": 2,
   "id": "61ecd05e",
   "metadata": {},
   "outputs": [
    {
     "name": "stdout",
     "output_type": "stream",
     "text": [
      "['manzana', 'banana', 'cereza']\n",
      "despues de append: ['manzana', 'banana', 'cereza', 'durazno']\n",
      "despues de reasignar: ['manzana', 'mango', 'cereza', 'durazno']\n",
      "longitud: 4\n",
      "slicing: ['mango', 'cereza']\n"
     ]
    }
   ],
   "source": [
    "frutas = ['manzana', 'banana', 'cereza']\n",
    "print(frutas)\n",
    "frutas.append('durazno')\n",
    "print('despues de append:', frutas)\n",
    "frutas[1] = 'mango'\n",
    "print('despues de reasignar:', frutas)\n",
    "print('longitud:', len(frutas))\n",
    "print('slicing:', frutas[1:3])"
   ]
  },
  {
   "cell_type": "markdown",
   "id": "c43f283b",
   "metadata": {},
   "source": [
    "### tuplas \n",
    "tuplas son inmutables, se definen con ()\n"
   ]
  },
  {
   "cell_type": "code",
   "execution_count": 3,
   "id": "049f1c67",
   "metadata": {},
   "outputs": [
    {
     "name": "stdout",
     "output_type": "stream",
     "text": [
      "(10.0, 20.0) <class 'tuple'>\n",
      "lista desde tupla: [10.0, 20.0, 30]\n",
      "tupla desde lista: (10.0, 20.0, 30)\n",
      "coordenada x: 10.0, coordenada y: 20.0\n"
     ]
    }
   ],
   "source": [
    "coords = (10.0, 20.0)\n",
    "print(coords, type(coords))\n",
    "\n",
    "# conversion entre tipos\n",
    "lista = list(coords)\n",
    "lista.append(30)\n",
    "print('lista desde tupla:', lista)\n",
    "print('tupla desde lista:', tuple(lista))\n",
    "\n",
    "# desempaquetado de tuplas\n",
    "x, y = coords\n",
    "print(f\"coordenada x: {x}, coordenada y: {y}\")"
   ]
  },
  {
   "cell_type": "markdown",
   "id": "7f50e382",
   "metadata": {},
   "source": [
    "### diccionarios\n",
    "diccionarios mapean claves a valores, se definen con {}\n"
   ]
  },
  {
   "cell_type": "code",
   "execution_count": 6,
   "id": "d26a7898",
   "metadata": {},
   "outputs": [
    {
     "name": "stdout",
     "output_type": "stream",
     "text": [
      "{'nombre': 'Samuel', 'apellido': 'Angel Cardona', 'edad': 19}\n",
      "nombre: Samuel\n",
      "con ciudad: {'nombre': 'Samuel', 'apellido': 'Angel Cardona', 'edad': 19, 'ciudad': 'envigado'}\n",
      "keys: ['nombre', 'apellido', 'edad', 'ciudad']\n",
      "values: ['Samuel', 'Angel Cardona', 19, 'envigado']\n",
      "telefono: no disponible\n",
      "nombre: Samuel\n",
      "apellido: Angel Cardona\n",
      "edad: 19\n",
      "ciudad: envigado\n"
     ]
    }
   ],
   "source": [
    "persona = {'nombre': nombre, 'apellido': apellido, 'edad': edad}\n",
    "print(persona)\n",
    "print('nombre:', persona['nombre'])\n",
    "persona['ciudad'] = 'envigado'\n",
    "print('con ciudad:', persona)\n",
    "print('keys:', list(persona.keys()))\n",
    "print('values:', list(persona.values()))\n",
    "\n",
    "# acceso seguro con get()\n",
    "print(\"telefono:\", persona.get('telefono', 'no disponible'))\n",
    "\n",
    "# iterar sobre diccionario\n",
    "for clave, valor in persona.items():\n",
    "    print(f\"{clave}: {valor}\")"
   ]
  },
  {
   "cell_type": "markdown",
   "id": "35f6f7f7",
   "metadata": {},
   "source": [
    "### conjuntos\n",
    "conjuntos son colecciones sin orden y sin duplicados\n"
   ]
  },
  {
   "cell_type": "code",
   "execution_count": 7,
   "id": "1a9b107f",
   "metadata": {},
   "outputs": [
    {
     "name": "stdout",
     "output_type": "stream",
     "text": [
      "A: {1, 2, 3}\n",
      "B: {3, 4, 5}\n",
      "union: {1, 2, 3, 4, 5}\n",
      "interseccion: {3}\n",
      "diferencia A-B: {1, 2}\n",
      "diferencia simetrica: {1, 2, 4, 5}\n",
      "A es subconjunto de B? False\n",
      "tiene elementos en common? True\n"
     ]
    }
   ],
   "source": [
    "A = {1, 2, 3, 3}\n",
    "B = set([3, 4, 5])\n",
    "print('A:', A)\n",
    "print('B:', B)\n",
    "print('union:', A | B)\n",
    "print('interseccion:', A & B)\n",
    "print('diferencia A-B:', A - B)\n",
    "# acceso seguro con get()\n",
    "print('diferencia simetrica:', A ^ B)  # elementos que no estan en ambos\n",
    "\n",
    "# operaciones de conjuntos\n",
    "print('A es subconjunto de B?', A.issubset(B))\n",
    "print('tiene elementos en common?', not A.isdisjoint(B))"
   ]
  },
  {
   "cell_type": "markdown",
   "id": "1387e32b",
   "metadata": {},
   "source": [
    "## 5. indexación y slicing"
   ]
  },
  {
   "cell_type": "code",
   "execution_count": null,
   "id": "9ecde679",
   "metadata": {},
   "outputs": [],
   "source": [
    "lista = ['a', 'b', 'c', 'd', 'e', 'f']\n",
    "\n",
    "# indexacion basica\n",
    "print(\"primer elemento:\", lista[0])\n",
    "print(\"ultimo elemento:\", lista[-1])\n",
    "print(\"penultimo:\", lista[-2])\n",
    "\n",
    "# slicing avanzado\n",
    "print(\"primeros 3:\", lista[:3])        # desde inicio hasta posicion 3\n",
    "print(\"ultimos 3:\", lista[-3:])       # ultimos 3 elementos\n",
    "print(\"del 1 al 4:\", lista[1:4])      # elementos 1, 2, 3\n",
    "print(\"cada 2:\", lista[::2])          # elementos saltando de 2 en 2\n",
    "print(\"reversa:\", lista[::-1])        # lista en orden inverso\n",
    "\n",
    "# modificar por rangos\n",
    "lista[1:3] = ['X', 'Y', 'Z']\n",
    "print(\"modificado:\", lista)"
   ]
  },
  {
   "cell_type": "markdown",
   "id": "3966fbf2",
   "metadata": {},
   "source": [
    "## 6. métodos de listas y strings"
   ]
  },
  {
   "cell_type": "code",
   "execution_count": 3,
   "id": "fc1393c6",
   "metadata": {},
   "outputs": [
    {
     "name": "stdout",
     "output_type": "stream",
     "text": [
      "suma elemento a elemento: [11, 22, 33]\n",
      "upper: HOLA MUNDO\n",
      "split: ['hola', 'mundo']\n",
      "sorted: [1, 2, 5, 9]\n",
      "lista ordenada: [1, 2, 5, 9]\n",
      "cambio index 2 -> [1, 2, 99, 9]\n",
      "reemplazo rango 1:3 -> [1, 10, 11, 9]\n",
      "append -> [1, 10, 11, 9, 5]\n",
      "insert -> [1, 'x', 10, 11, 9, 5]\n",
      "pop -> [1, 'x', 10, 11, 9]\n",
      "remove -> [1, 10, 11, 9]\n"
     ]
    }
   ],
   "source": [
    "lista1 = [1, 2, 3]\n",
    "lista2 = [10, 20, 30]\n",
    "suma_elem = [a + b for a, b in zip(lista1, lista2)]\n",
    "print('suma elemento a elemento:', suma_elem)\n",
    "\n",
    "s = 'hola mundo'\n",
    "print('upper:', s.upper())\n",
    "print('split:', s.split())\n",
    "\n",
    "L = [5, 2, 9, 1]\n",
    "print('sorted:', sorted(L))\n",
    "L.sort()\n",
    "print('lista ordenada:', l)\n",
    "L[2] = 99\n",
    "print(\"cambio index 2 ->\", L)\n",
    "L[1:3] = [10,11]   # cambiar por rango\n",
    "print(\"reemplazo rango 1:3 ->\", L)\n",
    "L.append(5)        # agregar al final\n",
    "print(\"append ->\", L)\n",
    "L.insert(1, 'x')   # insertar en posicion 1\n",
    "print(\"insert ->\", L)\n",
    "L.pop()            # quitar ultimo\n",
    "print(\"pop ->\", L)\n",
    "L.remove('x')      # quitar primer 'x' si existe\n",
    "print(\"remove ->\", L)"
   ]
  },
  {
   "cell_type": "code",
   "execution_count": 8,
   "id": "2bdd6e4b",
   "metadata": {},
   "outputs": [
    {
     "name": "stdout",
     "output_type": "stream",
     "text": [
      "[0, 1, 4, 9, 16, 25, 36, 49, 64, 81]\n",
      "numeros pares: [0, 2, 4, 6, 8, 10, 12, 14, 16, 18]\n",
      "diccionario cuadrados: {0: 0, 1: 1, 2: 4, 3: 9, 4: 16}\n",
      "next(gen): 0\n"
     ]
    }
   ],
   "source": [
    "cuadrados = [x**2 for x in range(10)]\n",
    "print(cuadrados)\n",
    "\n",
    "# comprensiones con condicionales\n",
    "pares = [x for x in range(20) if x % 2 == 0]\n",
    "print(\"numeros pares:\", pares)\n",
    "\n",
    "# comprension de diccionarios\n",
    "cuadrados_dict = {x: x**2 for x in range(5)}\n",
    "print(\"diccionario cuadrados:\", cuadrados_dict)\n",
    "\n",
    "gen = (x**2 for x in range(10))\n",
    "print('next(gen):', next(gen))"
   ]
  },
  {
   "cell_type": "markdown",
   "id": "ee4dfcf2",
   "metadata": {},
   "source": [
    "## 7. estructuras de control"
   ]
  },
  {
   "cell_type": "markdown",
   "id": "1894581b",
   "metadata": {},
   "source": [
    "### condicionales (if/elif/else)"
   ]
  },
  {
   "cell_type": "code",
   "execution_count": 16,
   "id": "28678912",
   "metadata": {},
   "outputs": [
    {
     "name": "stdout",
     "output_type": "stream",
     "text": [
      "positivo\n",
      "1 persona ficticia 1 101\n",
      "2 samuel (yo) 19\n",
      "3 persona ficticia 2 99\n"
     ]
    }
   ],
   "source": [
    "x = 7\n",
    "if x < 0:\n",
    "    print('negativo')\n",
    "elif x == 0:\n",
    "    print('cero')\n",
    "else:\n",
    "    print('positivo')\n",
    "\n",
    "nombres = ['persona ficticia 1', 'samuel (yo)', 'persona ficticia 2']\n",
    "edades = [101, 19, 99]\n",
    "for i, (n, e) in enumerate(zip(nombres, edades), start=1):\n",
    "    print(i, n, e)\n"
   ]
  },
  {
   "cell_type": "code",
   "execution_count": 5,
   "id": "cb38df09",
   "metadata": {},
   "outputs": [
    {
     "data": {
      "text/plain": [
       "True"
      ]
     },
     "execution_count": 5,
     "metadata": {},
     "output_type": "execute_result"
    }
   ],
   "source": [
    "promedio=4.01\n",
    "semestre=5\n",
    "practica_banrep=(promedio >= 4.0) & (semestre>=5)\n",
    "practica_banrep"
   ]
  },
  {
   "cell_type": "markdown",
   "id": "50f965cb",
   "metadata": {},
   "source": [
    "### bucles (for/while) "
   ]
  },
  {
   "cell_type": "code",
   "execution_count": 12,
   "id": "e52aa730",
   "metadata": {},
   "outputs": [
    {
     "name": "stdout",
     "output_type": "stream",
     "text": [
      "adivina el numero secreto (entre 1 y 10):\n",
      "felicitaciones! adivinaste el numero\n"
     ]
    }
   ],
   "source": [
    "numero_secreto = 9 #el numero se debe poner en el buscador de arriba\n",
    "intento = None  # inicializamos la variable\n",
    "\n",
    "print(\"adivina el numero secreto (entre 1 y 10):\")\n",
    "\n",
    "# el ciclo se repite mientras la condicion sea true\n",
    "while intento != numero_secreto:\n",
    "    intento = int(input(\"ingresa tu numero: \"))\n",
    "    \n",
    "    if intento < numero_secreto:\n",
    "        print(\"muy bajo, intenta otra vez\")\n",
    "    elif intento > numero_secreto:\n",
    "        print(\"muy alto, intenta otra vez\")\n",
    "\n",
    "print(\"felicitaciones! adivinaste el numero\")"
   ]
  },
  {
   "cell_type": "markdown",
   "id": "0332e718",
   "metadata": {},
   "source": [
    "## 8. manejo de excepciones\n",
    "las excepciones son errores que ocurren durante la ejecucion.\n",
    "\n",
    "try = intenta esto, except = si hay error haz esto"
   ]
  },
  {
   "cell_type": "code",
   "execution_count": 11,
   "id": "e8d63ee8",
   "metadata": {},
   "outputs": [
    {
     "name": "stdout",
     "output_type": "stream",
     "text": [
      "10 dividido por 10 es 1.0\n",
      "este bloque siempre se ejecuta\n"
     ]
    }
   ],
   "source": [
    "# ejemplo basico de manejo de excepciones\n",
    "try:\n",
    "    numero = int(input(\"ingresa un numero: \"))\n",
    "    resultado = 10 / numero\n",
    "    print(f\"10 dividido por {numero} es {resultado}\")\n",
    "except ValueError:\n",
    "    print(\"error: debes ingresar un numero valido\")\n",
    "except ZeroDivisionError:\n",
    "    print(\"error: no se puede dividir por cero\")\n",
    "except Exception as e:\n",
    "    print(f\"error inesperado: {e}\")\n",
    "finally:\n",
    "    print(\"este bloque siempre se ejecuta\")"
   ]
  },
  {
   "cell_type": "markdown",
   "id": "779b1389",
   "metadata": {},
   "source": [
    "## 9. funciones \n",
    "como definirlas, usar argumentos, *args, **kwargs, y lambdas."
   ]
  },
  {
   "cell_type": "code",
   "execution_count": null,
   "id": "7485b4fe",
   "metadata": {},
   "outputs": [
    {
     "name": "stdout",
     "output_type": "stream",
     "text": [
      "6\n",
      "15\n",
      "args: (1, 2, 3)\n",
      "kwargs: {'nombre': 'Samuel', 'edad': 19}\n",
      "lambda 4 -> 16\n",
      "map: [1, 4, 9, 16]\n",
      "filter: [2, 4]\n"
     ]
    }
   ],
   "source": [
    "def multiplicar(a, b=2):\n",
    "    return a * b\n",
    "\n",
    "print(multiplicar(3))\n",
    "print(multiplicar(3, 5))\n",
    "\n",
    "def resumen(*args, **kwargs):\n",
    "    print('args:', args)\n",
    "    print('kwargs:', kwargs)\n",
    "\n",
    "resumen(1, 2, 3, nombre=nombre, edad=edad)\n",
    "\n",
    "f = lambda x: x**2\n",
    "print('lambda 4 ->', f(4))\n",
    "\n",
    "nums = [1, 2, 3, 4]\n",
    "print('map:', list(map(lambda x: x**2, nums)))\n",
    "print('filter:', list(filter(lambda x: x%2==0, nums)))"
   ]
  },
  {
   "cell_type": "markdown",
   "id": "7730fd68",
   "metadata": {},
   "source": [
    "## 10. módulos e importaciones\n",
    "tambien vimos como importar modulos. algunos ejemplos:\n",
    "\n",
    "- \"import math\"\n",
    "- \"from math import sqrt\""
   ]
  },
  {
   "cell_type": "code",
   "execution_count": 25,
   "id": "e8e0ff1b",
   "metadata": {},
   "outputs": [
    {
     "name": "stdout",
     "output_type": "stream",
     "text": [
      "numeros: [88, 51, 74, 41, 22, 73, 33]\n",
      "media y mediana: 54.57142857142857 51\n"
     ]
    }
   ],
   "source": [
    "import random as rnd #aca le ponemos un apodo o alias a random\n",
    "from statistics import mean, median # de aca le decimos que vaya a statistics y saque la media y mediana\n",
    "\n",
    "numeros = [rnd.randint(1, 100) for _ in range(7)] # aca en vez de usar random completo, usamos rnd\n",
    "print('numeros:', numeros)\n",
    "print('media y mediana:', mean(numeros), median(numeros))\n"
   ]
  },
  {
   "cell_type": "markdown",
   "id": "70b34482",
   "metadata": {},
   "source": [
    "y listo, esto seria todo para un todo para un tutorial breve de python, gracias por ver :)"
   ]
  }
 ],
 "metadata": {
  "kernelspec": {
   "display_name": ".venv",
   "language": "python",
   "name": "python3"
  },
  "language_info": {
   "codemirror_mode": {
    "name": "ipython",
    "version": 3
   },
   "file_extension": ".py",
   "mimetype": "text/x-python",
   "name": "python",
   "nbconvert_exporter": "python",
   "pygments_lexer": "ipython3",
   "version": "3.13.5"
  }
 },
 "nbformat": 4,
 "nbformat_minor": 5
}
